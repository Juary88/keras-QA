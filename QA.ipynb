{
 "cells": [
  {
   "cell_type": "code",
   "execution_count": 103,
   "metadata": {
    "scrolled": true
   },
   "outputs": [
    {
     "name": "stdout",
     "output_type": "stream",
     "text": [
      "RNN / Embed / Sent / Query = <class 'keras.layers.recurrent.LSTM'>, 50, 100, 100\n"
     ]
    },
    {
     "name": "stderr",
     "output_type": "stream",
     "text": [
      "/usr/lib/python3.5/re.py:203: FutureWarning: split() requires a non-empty pattern match.\n",
      "  return _compile(pattern, flags).split(string, maxsplit)\n"
     ]
    },
    {
     "name": "stdout",
     "output_type": "stream",
     "text": [
      "vocab = ['.', '?', 'Daniel', 'John', 'Mary', 'Sandra', 'Where', 'back', 'bathroom', 'bedroom', 'garden', 'hallway', 'is', 'journeyed', 'kitchen', 'moved', 'office', 'the', 'to', 'travelled', 'went']\n",
      "x.shape = (10000, 68)\n",
      "xq.shape = (10000, 4)\n",
      "y.shape = (10000, 22)\n",
      "story_maxlen, query_maxlen = 68, 4\n",
      "Build model...\n",
      "Training\n",
      "Train on 9500 samples, validate on 500 samples\n",
      "Epoch 1/40\n",
      "9500/9500 [==============================] - 34s 4ms/step - loss: 1.9477 - acc: 0.1827 - val_loss: 1.7059 - val_acc: 0.3180\n",
      "Epoch 2/40\n",
      "9500/9500 [==============================] - 32s 3ms/step - loss: 1.4969 - acc: 0.4282 - val_loss: 1.3017 - val_acc: 0.4820\n",
      "Epoch 3/40\n",
      "9500/9500 [==============================] - 33s 3ms/step - loss: 1.2703 - acc: 0.5114 - val_loss: 1.2407 - val_acc: 0.4780\n",
      "Epoch 4/40\n",
      "9500/9500 [==============================] - 33s 3ms/step - loss: 1.1985 - acc: 0.5168 - val_loss: 1.2056 - val_acc: 0.5240\n",
      "Epoch 5/40\n",
      "9500/9500 [==============================] - 32s 3ms/step - loss: 1.1619 - acc: 0.5159 - val_loss: 1.1935 - val_acc: 0.5080\n",
      "Epoch 6/40\n",
      "9500/9500 [==============================] - 33s 3ms/step - loss: 1.1478 - acc: 0.5134 - val_loss: 1.1675 - val_acc: 0.5260\n",
      "Epoch 7/40\n",
      "9500/9500 [==============================] - 32s 3ms/step - loss: 1.1331 - acc: 0.5202 - val_loss: 1.1658 - val_acc: 0.5160\n",
      "Epoch 8/40\n",
      "9500/9500 [==============================] - 31s 3ms/step - loss: 1.1152 - acc: 0.5194 - val_loss: 1.1378 - val_acc: 0.5100\n",
      "Epoch 9/40\n",
      "9500/9500 [==============================] - 32s 3ms/step - loss: 1.1034 - acc: 0.5178 - val_loss: 1.1639 - val_acc: 0.4920\n",
      "Epoch 10/40\n",
      "9500/9500 [==============================] - 32s 3ms/step - loss: 1.0935 - acc: 0.5201 - val_loss: 1.1391 - val_acc: 0.4920\n",
      "Epoch 11/40\n",
      "9500/9500 [==============================] - 33s 3ms/step - loss: 1.0853 - acc: 0.5162 - val_loss: 1.1464 - val_acc: 0.4980\n",
      "Epoch 12/40\n",
      "9500/9500 [==============================] - 32s 3ms/step - loss: 1.0822 - acc: 0.5162 - val_loss: 1.1191 - val_acc: 0.5120\n",
      "Epoch 13/40\n",
      "9500/9500 [==============================] - 32s 3ms/step - loss: 1.0723 - acc: 0.5192 - val_loss: 1.1199 - val_acc: 0.5100\n",
      "Epoch 14/40\n",
      "9500/9500 [==============================] - 32s 3ms/step - loss: 1.0633 - acc: 0.5271 - val_loss: 1.1111 - val_acc: 0.5000\n",
      "Epoch 15/40\n",
      "9500/9500 [==============================] - 32s 3ms/step - loss: 1.0568 - acc: 0.5268 - val_loss: 1.1208 - val_acc: 0.4940\n",
      "Epoch 16/40\n",
      "9500/9500 [==============================] - 32s 3ms/step - loss: 1.0598 - acc: 0.5247 - val_loss: 1.1170 - val_acc: 0.5080\n",
      "Epoch 17/40\n",
      "9500/9500 [==============================] - 33s 3ms/step - loss: 1.0502 - acc: 0.5273 - val_loss: 1.1268 - val_acc: 0.4900\n",
      "Epoch 18/40\n",
      "9500/9500 [==============================] - 31s 3ms/step - loss: 1.0439 - acc: 0.5291 - val_loss: 1.1183 - val_acc: 0.5140\n",
      "Epoch 19/40\n",
      "9500/9500 [==============================] - 31s 3ms/step - loss: 1.0447 - acc: 0.5219 - val_loss: 1.1041 - val_acc: 0.4860\n",
      "Epoch 20/40\n",
      "9500/9500 [==============================] - 32s 3ms/step - loss: 1.0325 - acc: 0.5325 - val_loss: 1.0947 - val_acc: 0.4920\n",
      "Epoch 21/40\n",
      "9500/9500 [==============================] - 32s 3ms/step - loss: 1.0309 - acc: 0.5240 - val_loss: 1.1135 - val_acc: 0.5200\n",
      "Epoch 22/40\n",
      "9500/9500 [==============================] - 31s 3ms/step - loss: 1.0338 - acc: 0.5283 - val_loss: 1.1037 - val_acc: 0.4960\n",
      "Epoch 23/40\n",
      "9500/9500 [==============================] - 30s 3ms/step - loss: 1.0310 - acc: 0.5263 - val_loss: 1.0974 - val_acc: 0.5240\n",
      "Epoch 24/40\n",
      "9500/9500 [==============================] - 32s 3ms/step - loss: 1.0163 - acc: 0.5286 - val_loss: 1.1020 - val_acc: 0.5100\n",
      "Epoch 25/40\n",
      "9500/9500 [==============================] - 32s 3ms/step - loss: 1.0152 - acc: 0.5348 - val_loss: 1.1038 - val_acc: 0.5100\n",
      "Epoch 26/40\n",
      "9500/9500 [==============================] - 32s 3ms/step - loss: 1.0143 - acc: 0.5267 - val_loss: 1.0899 - val_acc: 0.5060\n",
      "Epoch 27/40\n",
      "9500/9500 [==============================] - 33s 3ms/step - loss: 1.0065 - acc: 0.5396 - val_loss: 1.1078 - val_acc: 0.5220\n",
      "Epoch 28/40\n",
      "9500/9500 [==============================] - 32s 3ms/step - loss: 0.9926 - acc: 0.5462 - val_loss: 1.0922 - val_acc: 0.5120\n",
      "Epoch 29/40\n",
      "9500/9500 [==============================] - 32s 3ms/step - loss: 0.9933 - acc: 0.5459 - val_loss: 1.0815 - val_acc: 0.5180\n",
      "Epoch 30/40\n",
      "9500/9500 [==============================] - 32s 3ms/step - loss: 0.9771 - acc: 0.5662 - val_loss: 1.0767 - val_acc: 0.5260\n",
      "Epoch 31/40\n",
      "9500/9500 [==============================] - 31s 3ms/step - loss: 0.9530 - acc: 0.5782 - val_loss: 1.0185 - val_acc: 0.5540\n",
      "Epoch 32/40\n",
      "9500/9500 [==============================] - 31s 3ms/step - loss: 0.9081 - acc: 0.6146 - val_loss: 0.9390 - val_acc: 0.5960\n",
      "Epoch 33/40\n",
      "9500/9500 [==============================] - 33s 3ms/step - loss: 0.8348 - acc: 0.6520 - val_loss: 0.8265 - val_acc: 0.6900\n",
      "Epoch 34/40\n",
      "9500/9500 [==============================] - 32s 3ms/step - loss: 0.7133 - acc: 0.7272 - val_loss: 0.6561 - val_acc: 0.7660\n",
      "Epoch 35/40\n",
      "9500/9500 [==============================] - 32s 3ms/step - loss: 0.6054 - acc: 0.7844 - val_loss: 0.5206 - val_acc: 0.8240\n",
      "Epoch 36/40\n",
      "9500/9500 [==============================] - 32s 3ms/step - loss: 0.4997 - acc: 0.8246 - val_loss: 0.4249 - val_acc: 0.8280\n",
      "Epoch 37/40\n",
      "9500/9500 [==============================] - 32s 3ms/step - loss: 0.4190 - acc: 0.8579 - val_loss: 0.3209 - val_acc: 0.8960\n",
      "Epoch 38/40\n",
      "9500/9500 [==============================] - 31s 3ms/step - loss: 0.2007 - acc: 0.9415 - val_loss: 0.0412 - val_acc: 0.9980\n",
      "Epoch 39/40\n",
      "9500/9500 [==============================] - 31s 3ms/step - loss: 0.1003 - acc: 0.9767 - val_loss: 0.0411 - val_acc: 0.9920\n",
      "Epoch 40/40\n",
      "9500/9500 [==============================] - 32s 3ms/step - loss: 0.0409 - acc: 0.9933 - val_loss: 0.0052 - val_acc: 1.0000\n",
      "1000/1000 [==============================] - 1s 1ms/step\n",
      "Test loss / test accuracy = 0.0056 / 1.0000\n"
     ]
    }
   ],
   "source": [
    "from __future__ import print_function\n",
    "from functools import reduce\n",
    "import re\n",
    "import tarfile\n",
    "\n",
    "import numpy as np\n",
    "\n",
    "from keras.utils.data_utils import get_file\n",
    "from keras.layers.embeddings import Embedding\n",
    "from keras import layers\n",
    "from keras.layers import recurrent\n",
    "from keras.models import Model\n",
    "from keras.preprocessing.sequence import pad_sequences\n",
    "\n",
    "\n",
    "def tokenize(sent):\n",
    "    '''Return the tokens of a sentence including punctuation.\n",
    "    >>> tokenize('Bob dropped the apple. Where is the apple?')\n",
    "    ['Bob', 'dropped', 'the', 'apple', '.', 'Where', 'is', 'the', 'apple', '?']\n",
    "    '''\n",
    "    return [x.strip() for x in re.split('(\\W+)?', sent) if x.strip()]\n",
    "\n",
    "\n",
    "def parse_stories(lines, only_supporting=False):\n",
    "    '''Parse stories provided in the bAbi tasks format\n",
    "    If only_supporting is true,\n",
    "    only the sentences that support the answer are kept.\n",
    "    '''\n",
    "    data = []\n",
    "    story = []\n",
    "    for line in lines:\n",
    "        line = line.decode('utf-8').strip()\n",
    "        nid, line = line.split(' ', 1)\n",
    "        nid = int(nid)\n",
    "        if nid == 1:\n",
    "            story = []\n",
    "        if '\\t' in line:\n",
    "            q, a, supporting = line.split('\\t')\n",
    "            q = tokenize(q)\n",
    "            substory = None\n",
    "            if only_supporting:\n",
    "                # Only select the related substory\n",
    "                supporting = map(int, supporting.split())\n",
    "                substory = [story[i - 1] for i in supporting]\n",
    "            else:\n",
    "                # Provide all the substories\n",
    "                substory = [x for x in story if x]\n",
    "            data.append((substory, q, a))\n",
    "            story.append('')\n",
    "        else:\n",
    "            sent = tokenize(line)\n",
    "            story.append(sent)\n",
    "    return data\n",
    "\n",
    "\n",
    "def get_stories(f, only_supporting=False, max_length=None):\n",
    "    '''Given a file name, read the file, retrieve the stories,\n",
    "    and then convert the sentences into a single story.\n",
    "    If max_length is supplied,\n",
    "    any stories longer than max_length tokens will be discarded.\n",
    "    '''\n",
    "    data = parse_stories(f.readlines(), only_supporting=only_supporting)\n",
    "    flatten = lambda data: reduce(lambda x, y: x + y, data)\n",
    "    data = [(flatten(story), q, answer) for story, q, answer in data if not max_length or len(flatten(story)) < max_length]\n",
    "    return data\n",
    "\n",
    "\n",
    "def vectorize_stories(data, word_idx, story_maxlen, query_maxlen):\n",
    "    xs = []\n",
    "    xqs = []\n",
    "    ys = []\n",
    "    for story, query, answer in data:\n",
    "        x = [word_idx[w] for w in story]\n",
    "        xq = [word_idx[w] for w in query]\n",
    "        # let's not forget that index 0 is reserved\n",
    "        y = np.zeros(len(word_idx) + 1)\n",
    "        y[word_idx[answer]] = 1\n",
    "        xs.append(x)\n",
    "        xqs.append(xq)\n",
    "        ys.append(y)\n",
    "    return pad_sequences(xs, maxlen=story_maxlen), pad_sequences(xqs, maxlen=query_maxlen), np.array(ys)\n",
    "\n",
    "RNN = recurrent.LSTM\n",
    "EMBED_HIDDEN_SIZE = 50\n",
    "SENT_HIDDEN_SIZE = 100\n",
    "QUERY_HIDDEN_SIZE = 100\n",
    "BATCH_SIZE = 32\n",
    "EPOCHS = 40\n",
    "print('RNN / Embed / Sent / Query = {}, {}, {}, {}'.format(RNN,\n",
    "                                                           EMBED_HIDDEN_SIZE,\n",
    "                                                           SENT_HIDDEN_SIZE,\n",
    "                                                           QUERY_HIDDEN_SIZE))\n",
    "\n",
    "try:\n",
    "    path = get_file('babi-tasks-v1-2.tar.gz', origin='https://s3.amazonaws.com/text-datasets/babi_tasks_1-20_v1-2.tar.gz')\n",
    "except:\n",
    "    print('Error downloading dataset, please download it manually:\\n'\n",
    "          '$ wget http://www.thespermwhale.com/jaseweston/babi/tasks_1-20_v1-2.tar.gz\\n'\n",
    "          '$ mv tasks_1-20_v1-2.tar.gz ~/.keras/datasets/babi-tasks-v1-2.tar.gz')\n",
    "    raise\n",
    "tar = tarfile.open(path)\n",
    "# Default QA1 with 1000 samples\n",
    "# challenge = 'tasks_1-20_v1-2/en/qa1_single-supporting-fact_{}.txt'\n",
    "# QA1 with 10,000 samples\n",
    "challenge = 'tasks_1-20_v1-2/en-10k/qa1_single-supporting-fact_{}.txt'\n",
    "# QA2 with 1000 samples\n",
    "#challenge = 'tasks_1-20_v1-2/en/qa2_two-supporting-facts_{}.txt'\n",
    "# QA2 with 10,000 samples\n",
    "# challenge = 'tasks_1-20_v1-2/en-10k/qa2_two-supporting-facts_{}.txt'\n",
    "train = get_stories(tar.extractfile(challenge.format('train')))\n",
    "test = get_stories(tar.extractfile(challenge.format('test')))\n",
    "\n",
    "vocab = set()\n",
    "for story, q, answer in train + test:\n",
    "    vocab |= set(story + q + [answer])\n",
    "vocab = sorted(vocab)\n",
    "\n",
    "# Reserve 0 for masking via pad_sequences\n",
    "vocab_size = len(vocab) + 1\n",
    "word_idx = dict((c, i + 1) for i, c in enumerate(vocab))\n",
    "story_maxlen = max(map(len, (x for x, _, _ in train + test)))\n",
    "query_maxlen = max(map(len, (x for _, x, _ in train + test)))\n",
    "\n",
    "x, xq, y = vectorize_stories(train, word_idx, story_maxlen, query_maxlen)\n",
    "tx, txq, ty = vectorize_stories(test, word_idx, story_maxlen, query_maxlen)\n",
    "\n",
    "print('vocab = {}'.format(vocab))\n",
    "print('x.shape = {}'.format(x.shape))\n",
    "print('xq.shape = {}'.format(xq.shape))\n",
    "print('y.shape = {}'.format(y.shape))\n",
    "print('story_maxlen, query_maxlen = {}, {}'.format(story_maxlen, query_maxlen))\n",
    "\n",
    "print('Build model...')\n",
    "\n",
    "sentence = layers.Input(shape=(story_maxlen,), dtype='int32')\n",
    "encoded_sentence = layers.Embedding(vocab_size, EMBED_HIDDEN_SIZE)(sentence)\n",
    "encoded_sentence = layers.Dropout(0.3)(encoded_sentence)\n",
    "\n",
    "question = layers.Input(shape=(query_maxlen,), dtype='int32')\n",
    "encoded_question = layers.Embedding(vocab_size, EMBED_HIDDEN_SIZE)(question)\n",
    "encoded_question = layers.Dropout(0.3)(encoded_question)\n",
    "encoded_question = RNN(EMBED_HIDDEN_SIZE)(encoded_question)\n",
    "encoded_question = layers.RepeatVector(story_maxlen)(encoded_question)\n",
    "\n",
    "merged = layers.add([encoded_sentence, encoded_question])\n",
    "merged = RNN(EMBED_HIDDEN_SIZE)(merged)\n",
    "merged = layers.Dropout(0.3)(merged)\n",
    "preds = layers.Dense(vocab_size, activation='softmax')(merged)\n",
    "\n",
    "model = Model([sentence, question], preds)\n",
    "model.compile(optimizer='adam',\n",
    "              loss='categorical_crossentropy',\n",
    "              metrics=['accuracy'])\n",
    "\n",
    "print('Training')\n",
    "model.fit([x, xq], y,\n",
    "          batch_size=BATCH_SIZE,\n",
    "          epochs=EPOCHS,\n",
    "          validation_split=0.05)\n",
    "loss, acc = model.evaluate([tx, txq], ty,\n",
    "                           batch_size=BATCH_SIZE)\n",
    "print('Test loss / test accuracy = {:.4f} / {:.4f}'.format(loss, acc))"
   ]
  },
  {
   "cell_type": "code",
   "execution_count": 39,
   "metadata": {},
   "outputs": [
    {
     "name": "stderr",
     "output_type": "stream",
     "text": [
      "/usr/lib/python3.5/re.py:203: FutureWarning: split() requires a non-empty pattern match.\n",
      "  return _compile(pattern, flags).split(string, maxsplit)\n"
     ]
    }
   ],
   "source": [
    "train = get_stories(tar.extractfile(challenge.format('train')))"
   ]
  },
  {
   "cell_type": "code",
   "execution_count": 160,
   "metadata": {
    "scrolled": true
   },
   "outputs": [
    {
     "name": "stdout",
     "output_type": "stream",
     "text": [
      "__________________________________________________________________________________________________\n",
      "Layer (type)                    Output Shape         Param #     Connected to                     \n",
      "==================================================================================================\n",
      "input_8 (InputLayer)            (None, 4)            0                                            \n",
      "__________________________________________________________________________________________________\n",
      "embedding_8 (Embedding)         (None, 4, 50)        1100        input_8[0][0]                    \n",
      "__________________________________________________________________________________________________\n",
      "input_7 (InputLayer)            (None, 68)           0                                            \n",
      "__________________________________________________________________________________________________\n",
      "dropout_11 (Dropout)            (None, 4, 50)        0           embedding_8[0][0]                \n",
      "__________________________________________________________________________________________________\n",
      "embedding_7 (Embedding)         (None, 68, 50)       1100        input_7[0][0]                    \n",
      "__________________________________________________________________________________________________\n",
      "lstm_7 (LSTM)                   (None, 50)           20200       dropout_11[0][0]                 \n",
      "__________________________________________________________________________________________________\n",
      "dropout_10 (Dropout)            (None, 68, 50)       0           embedding_7[0][0]                \n",
      "__________________________________________________________________________________________________\n",
      "repeat_vector_4 (RepeatVector)  (None, 68, 50)       0           lstm_7[0][0]                     \n",
      "__________________________________________________________________________________________________\n",
      "add_4 (Add)                     (None, 68, 50)       0           dropout_10[0][0]                 \n",
      "                                                                 repeat_vector_4[0][0]            \n",
      "__________________________________________________________________________________________________\n",
      "lstm_8 (LSTM)                   (None, 50)           20200       add_4[0][0]                      \n",
      "__________________________________________________________________________________________________\n",
      "dropout_12 (Dropout)            (None, 50)           0           lstm_8[0][0]                     \n",
      "__________________________________________________________________________________________________\n",
      "dense_4 (Dense)                 (None, 22)           1122        dropout_12[0][0]                 \n",
      "==================================================================================================\n",
      "Total params: 43,722\n",
      "Trainable params: 43,722\n",
      "Non-trainable params: 0\n",
      "__________________________________________________________________________________________________\n"
     ]
    }
   ],
   "source": [
    "model.summary()"
   ]
  },
  {
   "cell_type": "code",
   "execution_count": 7,
   "metadata": {
    "scrolled": false
   },
   "outputs": [
    {
     "data": {
      "text/plain": [
       "(['Mary',\n",
       "  'moved',\n",
       "  'to',\n",
       "  'the',\n",
       "  'bathroom',\n",
       "  '.',\n",
       "  'John',\n",
       "  'went',\n",
       "  'to',\n",
       "  'the',\n",
       "  'hallway',\n",
       "  '.'],\n",
       " ['Where', 'is', 'Mary', '?'],\n",
       " 'bathroom')"
      ]
     },
     "execution_count": 7,
     "metadata": {},
     "output_type": "execute_result"
    }
   ],
   "source": [
    "train[0]"
   ]
  },
  {
   "cell_type": "code",
   "execution_count": 9,
   "metadata": {
    "scrolled": true
   },
   "outputs": [
    {
     "data": {
      "text/plain": [
       "(['John',\n",
       "  'travelled',\n",
       "  'to',\n",
       "  'the',\n",
       "  'hallway',\n",
       "  '.',\n",
       "  'Mary',\n",
       "  'journeyed',\n",
       "  'to',\n",
       "  'the',\n",
       "  'bathroom',\n",
       "  '.'],\n",
       " ['Where', 'is', 'John', '?'],\n",
       " 'hallway')"
      ]
     },
     "execution_count": 9,
     "metadata": {},
     "output_type": "execute_result"
    }
   ],
   "source": [
    "test[0]"
   ]
  },
  {
   "cell_type": "code",
   "execution_count": 10,
   "metadata": {
    "scrolled": true
   },
   "outputs": [
    {
     "data": {
      "text/plain": [
       "(['Mary',\n",
       "  'moved',\n",
       "  'to',\n",
       "  'the',\n",
       "  'bathroom',\n",
       "  '.',\n",
       "  'John',\n",
       "  'went',\n",
       "  'to',\n",
       "  'the',\n",
       "  'hallway',\n",
       "  '.'],\n",
       " ['Where', 'is', 'Mary', '?'],\n",
       " 'bathroom',\n",
       " ['John',\n",
       "  'travelled',\n",
       "  'to',\n",
       "  'the',\n",
       "  'hallway',\n",
       "  '.',\n",
       "  'Mary',\n",
       "  'journeyed',\n",
       "  'to',\n",
       "  'the',\n",
       "  'bathroom',\n",
       "  '.'],\n",
       " ['Where', 'is', 'John', '?'],\n",
       " 'hallway')"
      ]
     },
     "execution_count": 10,
     "metadata": {},
     "output_type": "execute_result"
    }
   ],
   "source": [
    "train[0] + test[0]"
   ]
  },
  {
   "cell_type": "code",
   "execution_count": 14,
   "metadata": {},
   "outputs": [
    {
     "data": {
      "text/plain": [
       "array([ 0,  0,  0,  0,  0,  0,  0,  0,  0,  0,  0,  0,  0,  0,  0,  0,  0,\n",
       "        0,  0,  0,  0,  0,  0,  0,  0,  0,  0,  0,  0,  0,  0,  0,  0,  0,\n",
       "        0,  0,  0,  0,  0,  0,  0,  0,  0,  0,  0,  0,  0,  0,  0,  0,  0,\n",
       "        0,  0,  0,  0,  0,  5, 16, 19, 18,  9,  1,  4, 21, 19, 18, 12,  1], dtype=int32)"
      ]
     },
     "execution_count": 14,
     "metadata": {},
     "output_type": "execute_result"
    }
   ],
   "source": [
    "x[0]#Mary moved to the bathroom.转化为如下形式"
   ]
  },
  {
   "cell_type": "code",
   "execution_count": 24,
   "metadata": {},
   "outputs": [
    {
     "data": {
      "text/plain": [
       "'Mary'"
      ]
     },
     "execution_count": 24,
     "metadata": {},
     "output_type": "execute_result"
    }
   ],
   "source": [
    "vocab[4]#vocab从0开始的，故array中的5变为4"
   ]
  },
  {
   "cell_type": "code",
   "execution_count": 25,
   "metadata": {},
   "outputs": [
    {
     "data": {
      "text/plain": [
       "'moved'"
      ]
     },
     "execution_count": 25,
     "metadata": {},
     "output_type": "execute_result"
    }
   ],
   "source": [
    "vocab[15]"
   ]
  },
  {
   "cell_type": "code",
   "execution_count": 26,
   "metadata": {},
   "outputs": [
    {
     "data": {
      "text/plain": [
       "'to'"
      ]
     },
     "execution_count": 26,
     "metadata": {},
     "output_type": "execute_result"
    }
   ],
   "source": [
    "vocab[18]"
   ]
  },
  {
   "cell_type": "code",
   "execution_count": 35,
   "metadata": {},
   "outputs": [
    {
     "data": {
      "text/plain": [
       "array([ 7, 13,  5,  2], dtype=int32)"
      ]
     },
     "execution_count": 35,
     "metadata": {},
     "output_type": "execute_result"
    }
   ],
   "source": [
    "xq[0]"
   ]
  },
  {
   "cell_type": "code",
   "execution_count": 36,
   "metadata": {},
   "outputs": [
    {
     "data": {
      "text/plain": [
       "(10000, 4)"
      ]
     },
     "execution_count": 36,
     "metadata": {},
     "output_type": "execute_result"
    }
   ],
   "source": [
    "xq.shape"
   ]
  },
  {
   "cell_type": "code",
   "execution_count": 104,
   "metadata": {},
   "outputs": [],
   "source": [
    "s = np.expand_dims(xq[0], axis=0)"
   ]
  },
  {
   "cell_type": "code",
   "execution_count": 105,
   "metadata": {},
   "outputs": [
    {
     "data": {
      "text/plain": [
       "(1, 4)"
      ]
     },
     "execution_count": 105,
     "metadata": {},
     "output_type": "execute_result"
    }
   ],
   "source": [
    "s.shape"
   ]
  },
  {
   "cell_type": "code",
   "execution_count": 106,
   "metadata": {},
   "outputs": [
    {
     "data": {
      "text/plain": [
       "array([[ 7, 13,  5,  2]], dtype=int32)"
      ]
     },
     "execution_count": 106,
     "metadata": {},
     "output_type": "execute_result"
    }
   ],
   "source": [
    "s"
   ]
  },
  {
   "cell_type": "code",
   "execution_count": 113,
   "metadata": {
    "collapsed": true
   },
   "outputs": [],
   "source": [
    "m = np.expand_dims(x[0], axis=0)"
   ]
  },
  {
   "cell_type": "code",
   "execution_count": 114,
   "metadata": {},
   "outputs": [
    {
     "data": {
      "text/plain": [
       "(1, 68)"
      ]
     },
     "execution_count": 114,
     "metadata": {},
     "output_type": "execute_result"
    }
   ],
   "source": [
    "m.shape"
   ]
  },
  {
   "cell_type": "code",
   "execution_count": 116,
   "metadata": {},
   "outputs": [],
   "source": [
    "a = model.predict([m,s])"
   ]
  },
  {
   "cell_type": "code",
   "execution_count": 123,
   "metadata": {
    "collapsed": true
   },
   "outputs": [],
   "source": [
    "y = np.argmax(a, axis = 1)"
   ]
  },
  {
   "cell_type": "code",
   "execution_count": 125,
   "metadata": {},
   "outputs": [
    {
     "data": {
      "text/plain": [
       "'bathroom'"
      ]
     },
     "execution_count": 125,
     "metadata": {},
     "output_type": "execute_result"
    }
   ],
   "source": [
    "vocab[y[0] + 1]#测输入Mary moved to the bathroom.John went to the hallway.Where is Mary?产生如下结果"
   ]
  },
  {
   "cell_type": "code",
   "execution_count": 126,
   "metadata": {},
   "outputs": [
    {
     "data": {
      "text/plain": [
       "['.',\n",
       " '?',\n",
       " 'Daniel',\n",
       " 'John',\n",
       " 'Mary',\n",
       " 'Sandra',\n",
       " 'Where',\n",
       " 'back',\n",
       " 'bathroom',\n",
       " 'bedroom',\n",
       " 'garden',\n",
       " 'hallway',\n",
       " 'is',\n",
       " 'journeyed',\n",
       " 'kitchen',\n",
       " 'moved',\n",
       " 'office',\n",
       " 'the',\n",
       " 'to',\n",
       " 'travelled',\n",
       " 'went']"
      ]
     },
     "execution_count": 126,
     "metadata": {},
     "output_type": "execute_result"
    }
   ],
   "source": [
    "vocab"
   ]
  },
  {
   "cell_type": "code",
   "execution_count": 193,
   "metadata": {
    "collapsed": true
   },
   "outputs": [],
   "source": [
    "x1 = \"Sandra moved to the garden.Sandra went back to the kitchen.\"\n",
    "xq1 = \"Where is Sandra?\""
   ]
  },
  {
   "cell_type": "code",
   "execution_count": 194,
   "metadata": {},
   "outputs": [
    {
     "name": "stderr",
     "output_type": "stream",
     "text": [
      "/usr/lib/python3.5/re.py:203: FutureWarning: split() requires a non-empty pattern match.\n",
      "  return _compile(pattern, flags).split(string, maxsplit)\n"
     ]
    }
   ],
   "source": [
    "x1 = tokenize(x1)\n",
    "xq1 = tokenize(xq1)"
   ]
  },
  {
   "cell_type": "code",
   "execution_count": 195,
   "metadata": {},
   "outputs": [
    {
     "data": {
      "text/plain": [
       "['Where', 'is', 'Sandra', '?']"
      ]
     },
     "execution_count": 195,
     "metadata": {},
     "output_type": "execute_result"
    }
   ],
   "source": [
    "x1\n",
    "xq1"
   ]
  },
  {
   "cell_type": "code",
   "execution_count": 196,
   "metadata": {},
   "outputs": [
    {
     "data": {
      "text/plain": [
       "{'.': 1,\n",
       " '?': 2,\n",
       " 'Daniel': 3,\n",
       " 'John': 4,\n",
       " 'Mary': 5,\n",
       " 'Sandra': 6,\n",
       " 'Where': 7,\n",
       " 'back': 8,\n",
       " 'bathroom': 9,\n",
       " 'bedroom': 10,\n",
       " 'garden': 11,\n",
       " 'hallway': 12,\n",
       " 'is': 13,\n",
       " 'journeyed': 14,\n",
       " 'kitchen': 15,\n",
       " 'moved': 16,\n",
       " 'office': 17,\n",
       " 'the': 18,\n",
       " 'to': 19,\n",
       " 'travelled': 20,\n",
       " 'went': 21}"
      ]
     },
     "execution_count": 196,
     "metadata": {},
     "output_type": "execute_result"
    }
   ],
   "source": [
    "word_idx"
   ]
  },
  {
   "cell_type": "code",
   "execution_count": 197,
   "metadata": {
    "collapsed": true
   },
   "outputs": [],
   "source": [
    "x1 = [word_idx[w] for w in x1]"
   ]
  },
  {
   "cell_type": "code",
   "execution_count": 198,
   "metadata": {},
   "outputs": [
    {
     "data": {
      "text/plain": [
       "[6, 16, 19, 18, 11, 1, 6, 21, 8, 19, 18, 15, 1]"
      ]
     },
     "execution_count": 198,
     "metadata": {},
     "output_type": "execute_result"
    }
   ],
   "source": [
    "x1"
   ]
  },
  {
   "cell_type": "code",
   "execution_count": 199,
   "metadata": {},
   "outputs": [],
   "source": [
    "x1 = pad_sequences([x1], maxlen=story_maxlen)"
   ]
  },
  {
   "cell_type": "code",
   "execution_count": 200,
   "metadata": {},
   "outputs": [
    {
     "data": {
      "text/plain": [
       "array([[ 0,  0,  0,  0,  0,  0,  0,  0,  0,  0,  0,  0,  0,  0,  0,  0,  0,\n",
       "         0,  0,  0,  0,  0,  0,  0,  0,  0,  0,  0,  0,  0,  0,  0,  0,  0,\n",
       "         0,  0,  0,  0,  0,  0,  0,  0,  0,  0,  0,  0,  0,  0,  0,  0,  0,\n",
       "         0,  0,  0,  0,  6, 16, 19, 18, 11,  1,  6, 21,  8, 19, 18, 15,  1]], dtype=int32)"
      ]
     },
     "execution_count": 200,
     "metadata": {},
     "output_type": "execute_result"
    }
   ],
   "source": [
    "x1"
   ]
  },
  {
   "cell_type": "code",
   "execution_count": 201,
   "metadata": {},
   "outputs": [],
   "source": [
    "xq1 = [word_idx[w] for w in xq1]"
   ]
  },
  {
   "cell_type": "code",
   "execution_count": 202,
   "metadata": {},
   "outputs": [
    {
     "data": {
      "text/plain": [
       "[7, 13, 6, 2]"
      ]
     },
     "execution_count": 202,
     "metadata": {},
     "output_type": "execute_result"
    }
   ],
   "source": [
    "xq1"
   ]
  },
  {
   "cell_type": "code",
   "execution_count": 203,
   "metadata": {},
   "outputs": [],
   "source": [
    "xq1 = pad_sequences([xq1], maxlen=query_maxlen)"
   ]
  },
  {
   "cell_type": "code",
   "execution_count": 204,
   "metadata": {},
   "outputs": [],
   "source": [
    "a = model.predict([x1,xq1])"
   ]
  },
  {
   "cell_type": "code",
   "execution_count": 205,
   "metadata": {
    "collapsed": true
   },
   "outputs": [],
   "source": [
    "y = np.argmax(a, axis = 1)"
   ]
  },
  {
   "cell_type": "code",
   "execution_count": 206,
   "metadata": {},
   "outputs": [
    {
     "data": {
      "text/plain": [
       "'kitchen'"
      ]
     },
     "execution_count": 206,
     "metadata": {},
     "output_type": "execute_result"
    }
   ],
   "source": [
    "vocab[y[0] - 1]#输出预测结果"
   ]
  }
 ],
 "metadata": {
  "kernelspec": {
   "display_name": "Python 3",
   "language": "python",
   "name": "python3"
  },
  "language_info": {
   "codemirror_mode": {
    "name": "ipython",
    "version": 3
   },
   "file_extension": ".py",
   "mimetype": "text/x-python",
   "name": "python",
   "nbconvert_exporter": "python",
   "pygments_lexer": "ipython3",
   "version": "3.5.2"
  }
 },
 "nbformat": 4,
 "nbformat_minor": 2
}
